{
  "nbformat": 4,
  "nbformat_minor": 0,
  "metadata": {
    "colab": {
      "provenance": [],
      "include_colab_link": true
    },
    "kernelspec": {
      "name": "python3",
      "display_name": "Python 3"
    },
    "language_info": {
      "name": "python"
    }
  },
  "cells": [
    {
      "cell_type": "markdown",
      "metadata": {
        "id": "view-in-github",
        "colab_type": "text"
      },
      "source": [
        "<a href=\"https://colab.research.google.com/github/suryautharakumar/DAS7000_Data_Analytics_and_Visualisation/blob/main/student_webscraping.ipynb\" target=\"_parent\"><img src=\"https://colab.research.google.com/assets/colab-badge.svg\" alt=\"Open In Colab\"/></a>"
      ]
    },
    {
      "cell_type": "markdown",
      "source": [
        "#Case Study: “Scraping the FilmCrave’s Top 1000 Movies” https://www.filmcrave.com/list_top_movie.php\n",
        "\n",
        "Imagine you’re a data analyst intern at a media analytics firm called CineScope Analytics.\n",
        "Your manager has asked you to research patterns and trends in movie data - ratings, genres, directors, and languages - to help a streaming startup decide what kind of films to invest in for their next global release.\n",
        "\n",
        "You’ve been tasked with creating a data-driven report based on real-world data from the website FilmCrave - which lists the Top 1000 Movies of all time.\n",
        "\n",
        "This week you only need to scape this website and extract folowing contents in a CSV file. You need to extract the detail of 1000 movies-\n",
        "\n",
        "title Name of the movie\n",
        "\n",
        "year_of_release Year movie was released\n",
        "\n",
        "overall_rating FilmCrave rating (out of 5)\n",
        "\n",
        "language Main language (if available)\n",
        "\n",
        "genre Primary genre(s)\n",
        "\n",
        "mpaa_rating Age rating (G, PG, R, etc.)\n",
        "\n",
        "director Director(s) name\n",
        "\n",
        "actors List of main actors\n",
        "\n",
        "plot Short summary of the movie\n",
        "\n",
        "#Hints for Scraping\n",
        "\n",
        "Use requests to fetch each page.\n",
        "\n",
        "Parse the HTML using BeautifulSoup.\n",
        "\n",
        "Each movie block is contained in a <div class=\"movie\"> or similar structure.\n",
        "\n",
        "Extract sub-elements (e.g., title, year, rating, etc.).\n",
        "\n",
        "Create a list of dictionaries and convert it into a pandas DataFrame.\n",
        "\n",
        "Save the result to a CSV file:\n",
        "\n",
        "df.to_csv(\"filmcrave_top_1000.csv\", index=False)\n",
        "\n"
      ],
      "metadata": {
        "id": "gwzjO3rj06tU"
      }
    },
    {
      "cell_type": "code",
      "source": [
        "url = \"https://www.filmcrave.com/list_top_movie.php\""
      ],
      "metadata": {
        "id": "hjf19R_oLywd"
      },
      "execution_count": null,
      "outputs": []
    },
    {
      "cell_type": "code",
      "source": [
        "import requests\n",
        "response = requests.get(url)"
      ],
      "metadata": {
        "id": "AkwA1rIVQAt8"
      },
      "execution_count": null,
      "outputs": []
    },
    {
      "cell_type": "code",
      "source": [
        "html_doc=response.text"
      ],
      "metadata": {
        "id": "1X_tsivDQYuA"
      },
      "execution_count": null,
      "outputs": []
    },
    {
      "cell_type": "code",
      "source": [
        "from bs4 import BeautifulSoup\n",
        "\n",
        "soup = BeautifulSoup(html_doc, \"html.parser\")"
      ],
      "metadata": {
        "id": "_FGhOMqIMbTN"
      },
      "execution_count": null,
      "outputs": []
    },
    {
      "cell_type": "code",
      "source": [
        "moive_titles = soup.select(\".detail-box .large a\")\n",
        "for titles in moive_titles:\n",
        "    print(\"Movies Titles:\", titles.string)"
      ],
      "metadata": {
        "colab": {
          "base_uri": "https://localhost:8080/"
        },
        "id": "BSlmD3GNMo4L",
        "outputId": "93a4963a-de90-4220-8fe1-0d5b9c34992d"
      },
      "execution_count": null,
      "outputs": [
        {
          "output_type": "stream",
          "name": "stdout",
          "text": [
            "Movies Titles: The Shawshank Redemption\n",
            "Movies Titles: Fight Club\n",
            "Movies Titles: The Godfather\n",
            "Movies Titles: The Dark Knight\n",
            "Movies Titles: Pulp Fiction\n",
            "Movies Titles: Forrest Gump\n",
            "Movies Titles: Lord of the Rings: The Fellowship of the Ring\n",
            "Movies Titles: Lord of the Rings: The Return of the King\n",
            "Movies Titles: The Matrix\n",
            "Movies Titles: Schindler's List\n"
          ]
        }
      ]
    },
    {
      "cell_type": "code",
      "source": [
        "moive_details = [p for p in soup.select(\".detail-box p\") if p.select_one(\".grey-bold\")]\n",
        "for p in moive_details:\n",
        "    spans = p.select(\"span.grey-bold\")\n",
        "\n",
        "    moive_titles = soup.select(\".detail-box .large a\")\n",
        "for titles in moive_titles:\n",
        "    print(\"Movies Titles:\", titles.string)\n",
        "\n",
        "    for span in spans:\n",
        "        label = span.get_text(strip=True).replace(\":\", \"\")\n",
        "        value = \"\"\n",
        "\n",
        "        next_element = span.next_sibling\n",
        "\n",
        "        if next_element and hasattr(next_element, \"strip\") and isinstance(next_element, str):\n",
        "            value = next_element.strip()\n",
        "\n",
        "        else:\n",
        "            next_element = span.find_next_sibling()\n",
        "            if next_element:\n",
        "                value = next_element.get_text(strip=True)\n",
        "\n",
        "        print(label,\":\", value)\n",
        "    print(\"\\n\")\n"
      ],
      "metadata": {
        "colab": {
          "base_uri": "https://localhost:8080/"
        },
        "id": "ZvSe9yPCQ5rf",
        "outputId": "1c514014-8601-4522-a402-b1271a224350"
      },
      "execution_count": null,
      "outputs": [
        {
          "output_type": "stream",
          "name": "stdout",
          "text": [
            "Movies Titles: The Shawshank Redemption\n",
            "Year of Release : 1993\n",
            "Overall Rating : 3.4 out of 4 stars\n",
            "Language : English\n",
            "Genre : Drama/Biography\n",
            "MPAA Rating : R\n",
            "Director : Steven Spielberg\n",
            "Actors : Liam Neeson, Ben Kingsley, Ralph Fiennes, Caroline Goodall, Mark Ivanir, Embeth Davidtz\n",
            "Plot : Schindler (played by Liam Neeson) tries to save the Jews by bringing as many as he can to an ammunitions plant that may not produce any ammunition.\n",
            "\n",
            "\n",
            "Movies Titles: Fight Club\n",
            "Year of Release : 1993\n",
            "Overall Rating : 3.4 out of 4 stars\n",
            "Language : English\n",
            "Genre : Drama/Biography\n",
            "MPAA Rating : R\n",
            "Director : Steven Spielberg\n",
            "Actors : Liam Neeson, Ben Kingsley, Ralph Fiennes, Caroline Goodall, Mark Ivanir, Embeth Davidtz\n",
            "Plot : Schindler (played by Liam Neeson) tries to save the Jews by bringing as many as he can to an ammunitions plant that may not produce any ammunition.\n",
            "\n",
            "\n",
            "Movies Titles: The Godfather\n",
            "Year of Release : 1993\n",
            "Overall Rating : 3.4 out of 4 stars\n",
            "Language : English\n",
            "Genre : Drama/Biography\n",
            "MPAA Rating : R\n",
            "Director : Steven Spielberg\n",
            "Actors : Liam Neeson, Ben Kingsley, Ralph Fiennes, Caroline Goodall, Mark Ivanir, Embeth Davidtz\n",
            "Plot : Schindler (played by Liam Neeson) tries to save the Jews by bringing as many as he can to an ammunitions plant that may not produce any ammunition.\n",
            "\n",
            "\n",
            "Movies Titles: The Dark Knight\n",
            "Year of Release : 1993\n",
            "Overall Rating : 3.4 out of 4 stars\n",
            "Language : English\n",
            "Genre : Drama/Biography\n",
            "MPAA Rating : R\n",
            "Director : Steven Spielberg\n",
            "Actors : Liam Neeson, Ben Kingsley, Ralph Fiennes, Caroline Goodall, Mark Ivanir, Embeth Davidtz\n",
            "Plot : Schindler (played by Liam Neeson) tries to save the Jews by bringing as many as he can to an ammunitions plant that may not produce any ammunition.\n",
            "\n",
            "\n",
            "Movies Titles: Pulp Fiction\n",
            "Year of Release : 1993\n",
            "Overall Rating : 3.4 out of 4 stars\n",
            "Language : English\n",
            "Genre : Drama/Biography\n",
            "MPAA Rating : R\n",
            "Director : Steven Spielberg\n",
            "Actors : Liam Neeson, Ben Kingsley, Ralph Fiennes, Caroline Goodall, Mark Ivanir, Embeth Davidtz\n",
            "Plot : Schindler (played by Liam Neeson) tries to save the Jews by bringing as many as he can to an ammunitions plant that may not produce any ammunition.\n",
            "\n",
            "\n",
            "Movies Titles: Forrest Gump\n",
            "Year of Release : 1993\n",
            "Overall Rating : 3.4 out of 4 stars\n",
            "Language : English\n",
            "Genre : Drama/Biography\n",
            "MPAA Rating : R\n",
            "Director : Steven Spielberg\n",
            "Actors : Liam Neeson, Ben Kingsley, Ralph Fiennes, Caroline Goodall, Mark Ivanir, Embeth Davidtz\n",
            "Plot : Schindler (played by Liam Neeson) tries to save the Jews by bringing as many as he can to an ammunitions plant that may not produce any ammunition.\n",
            "\n",
            "\n",
            "Movies Titles: Lord of the Rings: The Fellowship of the Ring\n",
            "Year of Release : 1993\n",
            "Overall Rating : 3.4 out of 4 stars\n",
            "Language : English\n",
            "Genre : Drama/Biography\n",
            "MPAA Rating : R\n",
            "Director : Steven Spielberg\n",
            "Actors : Liam Neeson, Ben Kingsley, Ralph Fiennes, Caroline Goodall, Mark Ivanir, Embeth Davidtz\n",
            "Plot : Schindler (played by Liam Neeson) tries to save the Jews by bringing as many as he can to an ammunitions plant that may not produce any ammunition.\n",
            "\n",
            "\n",
            "Movies Titles: Lord of the Rings: The Return of the King\n",
            "Year of Release : 1993\n",
            "Overall Rating : 3.4 out of 4 stars\n",
            "Language : English\n",
            "Genre : Drama/Biography\n",
            "MPAA Rating : R\n",
            "Director : Steven Spielberg\n",
            "Actors : Liam Neeson, Ben Kingsley, Ralph Fiennes, Caroline Goodall, Mark Ivanir, Embeth Davidtz\n",
            "Plot : Schindler (played by Liam Neeson) tries to save the Jews by bringing as many as he can to an ammunitions plant that may not produce any ammunition.\n",
            "\n",
            "\n",
            "Movies Titles: The Matrix\n",
            "Year of Release : 1993\n",
            "Overall Rating : 3.4 out of 4 stars\n",
            "Language : English\n",
            "Genre : Drama/Biography\n",
            "MPAA Rating : R\n",
            "Director : Steven Spielberg\n",
            "Actors : Liam Neeson, Ben Kingsley, Ralph Fiennes, Caroline Goodall, Mark Ivanir, Embeth Davidtz\n",
            "Plot : Schindler (played by Liam Neeson) tries to save the Jews by bringing as many as he can to an ammunitions plant that may not produce any ammunition.\n",
            "\n",
            "\n",
            "Movies Titles: Schindler's List\n",
            "Year of Release : 1993\n",
            "Overall Rating : 3.4 out of 4 stars\n",
            "Language : English\n",
            "Genre : Drama/Biography\n",
            "MPAA Rating : R\n",
            "Director : Steven Spielberg\n",
            "Actors : Liam Neeson, Ben Kingsley, Ralph Fiennes, Caroline Goodall, Mark Ivanir, Embeth Davidtz\n",
            "Plot : Schindler (played by Liam Neeson) tries to save the Jews by bringing as many as he can to an ammunitions plant that may not produce any ammunition.\n",
            "\n",
            "\n"
          ]
        }
      ]
    }
  ]
}